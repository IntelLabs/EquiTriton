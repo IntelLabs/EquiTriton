{
 "cells": [
  {
   "cell_type": "code",
   "execution_count": 1,
   "id": "fe44c9ad-908d-4c5b-8f1b-3899b3edde67",
   "metadata": {},
   "outputs": [],
   "source": [
    "import math\n",
    "from sympy import symbols, sqrt, diff, Symbol, latex"
   ]
  },
  {
   "cell_type": "markdown",
   "id": "0713ba07-311b-4032-b9c8-e152b4259811",
   "metadata": {},
   "source": [
    "This notebook uses `sympy` to perform symbolic differentiation to help with writing the manual backward pass for each order. To maintain consistency, the forward pass equations are direct copies/transcribed from the `e3nn` spherical harmonics functions, and for that reason we break up the sections in this notebook that \"match\" the `e3nn` implementation."
   ]
  },
  {
   "cell_type": "code",
   "execution_count": 2,
   "id": "fbf064e8-6cc1-44e6-8a4d-391d64463f30",
   "metadata": {},
   "outputs": [],
   "source": [
    "x, y, z = symbols(\"x y z\")"
   ]
  },
  {
   "cell_type": "code",
   "execution_count": 3,
   "id": "6a45fc5c-ad63-4423-a8ec-933cadfc7878",
   "metadata": {},
   "outputs": [],
   "source": [
    "def take_derivative(expr, symbols: list[Symbol], simplify: bool = True):\n",
    "    \"\"\"\n",
    "    Function to take the derivative of a symbolic equation with respect\n",
    "    to a list of symbols.\n",
    "\n",
    "    We loop through each symbol, and if it is used in the equation,\n",
    "    we take the first derivative with respect to that function.\n",
    "    \"\"\"\n",
    "    return_dict = {}\n",
    "    for symbol in symbols:\n",
    "        if symbol in expr.free_symbols:\n",
    "            deriv = diff(expr, symbol)\n",
    "            if simplify:\n",
    "                deriv = deriv.simplify()\n",
    "            return_dict[str(symbol)] = deriv\n",
    "    if len(return_dict) == 0:\n",
    "        raise RuntimeError(\"None of the requested symbols were used in the expression!\")\n",
    "    return return_dict"
   ]
  },
  {
   "cell_type": "code",
   "execution_count": 4,
   "id": "16ff41cd-d31e-48dc-a153-99a11f2457eb",
   "metadata": {},
   "outputs": [],
   "source": [
    "def collect_derivatives(derivs: dict, l: int, simplify: bool = True) -> dict:\n",
    "    \"\"\"Collect up derivatives from each component in terms of a cartesian axis\"\"\"\n",
    "    joint = {}\n",
    "    for axis in [\"x\", \"y\", \"z\"]:\n",
    "        for m, components in derivs.items():\n",
    "            # we use a dYl^m symbol to denote that you need to multiply\n",
    "            # by this particular component's gradient\n",
    "            m_symbol = symbols(f\"dY{l}^{m}\")\n",
    "            # not every component contributes gradients to an axis\n",
    "            if axis in components:\n",
    "                if axis not in joint:\n",
    "                    joint[axis] = components[axis] * m_symbol\n",
    "                else:\n",
    "                    joint[axis] += components[axis] * m_symbol\n",
    "    if simplify:\n",
    "        for axis, expr in joint.items():\n",
    "            joint[axis] = expr.simplify()\n",
    "    return joint"
   ]
  },
  {
   "cell_type": "code",
   "execution_count": 5,
   "id": "664e4abd-6af7-4d68-83e3-be1286082e50",
   "metadata": {},
   "outputs": [],
   "source": [
    "\"\"\"\n",
    "This cell implements helper functions that will reformat the sympy/Python string result\n",
    "into something that can be more readily copy-pasted for the Triton implementation.\n",
    "\"\"\"\n",
    "\n",
    "\n",
    "def replace_terms_for_implementation(e: str, mapping: dict[str, str]) -> str:\n",
    "    \"\"\"\n",
    "    Implements a function that remaps a sympy expression to match\n",
    "    the syntax used in the actual Triton implementation\n",
    "    \"\"\"\n",
    "    for key, value in mapping.items():\n",
    "        e = e.replace(key, value)\n",
    "    return e\n",
    "\n",
    "\n",
    "mapping = {\n",
    "    \"sqrt(15)\": \"sqrt_15\",\n",
    "    \"x**4.0\": \"sq_x * sq_x\",\n",
    "    \"z**4.0\": \"sq_z * sq_z\",\n",
    "    \"x**4\": \"sq_x * sq_x\",\n",
    "    \"z**4\": \"sq_z * sq_z\",\n",
    "}\n",
    "\n",
    "for power, prefix in zip([1, 2, 3], [\"\", \"sq_\", \"cu_\"]):\n",
    "    for axis in [\"x\", \"y\", \"z\"]:\n",
    "        # this one comes the decimal one comes first, otherwise\n",
    "        # it leaves dangling .0\n",
    "        mapping[f\"{axis}**{power}.0\"] = f\"{prefix}{axis}\"\n",
    "        mapping[f\"{axis}**{power}\"] = f\"{prefix}{axis}\"\n",
    "\n",
    "\"\"\"\n",
    "This adds the gradient terms to the re-mapping dictionary; ideally\n",
    "this makes it so that everything is literally just copy paste!\n",
    "\"\"\"\n",
    "\n",
    "\n",
    "def num_projections(l: int) -> int:\n",
    "    return 2 * l + 1\n",
    "\n",
    "\n",
    "for l_max in range(1, 4 + 1):\n",
    "    for m in range(num_projections(l_max)):\n",
    "        mapping[f\"dY{l_max}^{m}\"] = f\"g_{l_max}_{m}\"\n",
    "\n",
    "\n",
    "def export_to_latex(expr) -> None:\n",
    "    \"\"\"Function to format a sympy expression for copy/pasting into LaTeX\"\"\"\n",
    "    expr_str = latex(expr)\n",
    "    expr_mapping = {\n",
    "        \"dY\": \"\\\\nabla Y\",\n",
    "        \"^{1.0}\": \"\",\n",
    "        \"^{2.0}\": \"^2\",\n",
    "        \"^{3.0}\": \"^3\",\n",
    "        \"^{4.0}\": \"^4\",\n",
    "    }\n",
    "    for key, value in expr_mapping.items():\n",
    "        expr_str = expr_str.replace(key, value)\n",
    "    print(expr_str)"
   ]
  },
  {
   "cell_type": "markdown",
   "id": "0149cca3-3dc5-4781-9883-e208e4c161e9",
   "metadata": {},
   "source": [
    "## First order spherical harmonics\n",
    "\n",
    "...is just constant because it's just $\\sqrt{3}(x,y,z)$"
   ]
  },
  {
   "cell_type": "code",
   "execution_count": 6,
   "id": "6eaa0261-6faf-4994-ba6e-918106acde75",
   "metadata": {},
   "outputs": [],
   "source": [
    "zeroth_x = x * sqrt(3.0)"
   ]
  },
  {
   "cell_type": "code",
   "execution_count": 7,
   "id": "7a32af2a-6dc2-424b-ae5d-f83ff244d905",
   "metadata": {},
   "outputs": [
    {
     "data": {
      "text/latex": [
       "$\\displaystyle 1.73205080756888$"
      ],
      "text/plain": [
       "1.73205080756888"
      ]
     },
     "execution_count": 7,
     "metadata": {},
     "output_type": "execute_result"
    }
   ],
   "source": [
    "diff(zeroth_x, x)"
   ]
  },
  {
   "cell_type": "markdown",
   "id": "a865cb38-cf12-4e96-b716-bc689de0d493",
   "metadata": {},
   "source": [
    "## Second order spherical harmonics\n",
    "\n",
    "A little bit more involved; note I'm butchering the syntax where it's normally meant to be $y_l^m$, but I'm using $m$ indexing as if it was written in `e3nn` code.\n",
    "\n",
    "$$ y_2^0 = \\sqrt{15}xz $$\n",
    "\n",
    "$$ y_2^1 = \\sqrt{15}xy $$\n",
    "\n",
    "$$ y_2^3 = \\sqrt{15}yz $$\n",
    "\n",
    "$$ y_2^4 = \\sqrt{5} (y^2 - \\frac{1}{2}(x^2 + z^2) $$\n",
    "\n",
    "$$ y_2^5 = \\frac{\\sqrt{15}}{2} (z^2 - x^2) $$"
   ]
  },
  {
   "cell_type": "code",
   "execution_count": 8,
   "id": "95710a47-8292-4ec0-83f4-50679af6092f",
   "metadata": {},
   "outputs": [],
   "source": [
    "y_2_0 = sqrt(15) * x * z\n",
    "y_2_1 = sqrt(15) * x * y\n",
    "y_2_2 = sqrt(15) * y * z\n",
    "y_2_3 = sqrt(5) * (y**2 - 0.5 * (x**2 + z**2))\n",
    "y_2_4 = (sqrt(15) / 2) * (z**2.0 - x**2.0)"
   ]
  },
  {
   "cell_type": "code",
   "execution_count": 9,
   "id": "164f7da2-43ac-48d8-86bd-3ffe2f2e5710",
   "metadata": {},
   "outputs": [],
   "source": [
    "second_order = {}\n",
    "for index, expr in enumerate([y_2_0, y_2_1, y_2_2, y_2_3, y_2_4]):\n",
    "    second_order[str(index)] = take_derivative(expr, [x, y, z])"
   ]
  },
  {
   "cell_type": "markdown",
   "id": "fe92b282-70f8-4909-b917-54b971963d41",
   "metadata": {},
   "source": [
    "The cell below shows how each projection of $l$ contributes to $x,y,z$ axes. It's a convenient way to inspect the appearance of terms, but not so much for the actual implementation."
   ]
  },
  {
   "cell_type": "code",
   "execution_count": 10,
   "id": "5cef3f35-cd17-42a8-8f20-1dced30533e9",
   "metadata": {},
   "outputs": [
    {
     "data": {
      "text/plain": [
       "{'0': {'x': sqrt(15)*z, 'z': sqrt(15)*x},\n",
       " '1': {'x': sqrt(15)*y, 'y': sqrt(15)*x},\n",
       " '2': {'y': sqrt(15)*z, 'z': sqrt(15)*y},\n",
       " '3': {'x': -1.0*sqrt(5)*x, 'y': 2*sqrt(5)*y, 'z': -1.0*sqrt(5)*z},\n",
       " '4': {'x': -1.0*sqrt(15)*x**1.0, 'z': 1.0*sqrt(15)*z**1.0}}"
      ]
     },
     "execution_count": 10,
     "metadata": {},
     "output_type": "execute_result"
    }
   ],
   "source": [
    "second_order"
   ]
  },
  {
   "cell_type": "markdown",
   "id": "f10d5a36-72d8-4806-8adf-d03cf46027cb",
   "metadata": {},
   "source": [
    "Instead, we call `collect_derivatives` to aggregate each expression, and reorder it so that it's in terms of the derivatives of _each projection_ with respect to $x,y,z$. This makes it so that the Triton implementation is straightforward, since it maps onto how backprop actually produces gradients."
   ]
  },
  {
   "cell_type": "code",
   "execution_count": 11,
   "id": "a31b03d1-70c6-473d-9061-8a526f5ac2b2",
   "metadata": {},
   "outputs": [],
   "source": [
    "second_order_cartesian = collect_derivatives(second_order, 2)"
   ]
  },
  {
   "cell_type": "markdown",
   "id": "bec25cc1-6c91-49af-827b-636cdd2a7811",
   "metadata": {},
   "source": [
    "So the cell below derives $\\frac{\\partial Y_2}{\\partial x}$; i.e. how each projection of 2nd order spherical harmonic contributes to the total gradient of $x$."
   ]
  },
  {
   "cell_type": "code",
   "execution_count": 12,
   "id": "9f93b6e3-f8e4-40e7-b01f-782e99b95348",
   "metadata": {},
   "outputs": [
    {
     "data": {
      "text/plain": [
       "'1.0*sqrt_15*g_2_0*z + 1.0*sqrt_15*g_2_1*y - 1.0*sqrt(5)*g_2_3*x - 1.0*sqrt_15*g_2_4*x'"
      ]
     },
     "execution_count": 12,
     "metadata": {},
     "output_type": "execute_result"
    }
   ],
   "source": [
    "replace_terms_for_implementation(str(second_order_cartesian[\"x\"]), mapping)"
   ]
  },
  {
   "cell_type": "code",
   "execution_count": 13,
   "id": "012152ab-9227-447c-8b0a-7b39004935e7",
   "metadata": {},
   "outputs": [
    {
     "data": {
      "text/plain": [
       "'sqrt_15*g_2_1*x + sqrt_15*g_2_2*z + 2*sqrt(5)*g_2_3*y'"
      ]
     },
     "execution_count": 13,
     "metadata": {},
     "output_type": "execute_result"
    }
   ],
   "source": [
    "replace_terms_for_implementation(str(second_order_cartesian[\"y\"]), mapping)"
   ]
  },
  {
   "cell_type": "code",
   "execution_count": 14,
   "id": "598c64b5-8182-4c73-92ec-2b2c9d263372",
   "metadata": {},
   "outputs": [
    {
     "data": {
      "text/plain": [
       "'1.0*sqrt_15*g_2_0*x + 1.0*sqrt_15*g_2_2*y - 1.0*sqrt(5)*g_2_3*z + 1.0*sqrt_15*g_2_4*z'"
      ]
     },
     "execution_count": 14,
     "metadata": {},
     "output_type": "execute_result"
    }
   ],
   "source": [
    "replace_terms_for_implementation(str(second_order_cartesian[\"z\"]), mapping)"
   ]
  },
  {
   "cell_type": "markdown",
   "id": "b534b165-a9e2-44ed-8125-d512185e70d6",
   "metadata": {},
   "source": [
    "The remainder of this notebook follows the exact same recipe, and will not be documented as thoroughly as it is mainly for the implementation/reference. Some cells include a `print(latex(...))` line, which is used to pretty-print/format for $\\LaTeX$ outputs."
   ]
  },
  {
   "cell_type": "markdown",
   "id": "3afd34dd-1e89-4adb-877d-b5d53b2f6bb1",
   "metadata": {},
   "source": [
    "## Third order spherical harmonics\n",
    "\n",
    "$$ y_3^0 = \\frac{1}{6} \\sqrt{42} ({y_2^0} z + {y_2^4} x) $$\n",
    "\n",
    "$$ y_3^1 = \\sqrt{7} y_2^0 y $$\n",
    "\n",
    "$$ y_3^2 = \\frac{1}{8} \\sqrt{168} (4y^2 - x^2 + z^2) x $$\n",
    "\n",
    "$$ y_3^3 = \\frac{1}{2} \\sqrt{7} y (2y^2 - 3(x^2 + z^2)) $$\n",
    "\n",
    "$$ y_3^4 = \\frac{1}{8} \\sqrt{168} z(4y^2 - (x^2 + z^2)) $$\n",
    "\n",
    "$$ y_3^5 = \\sqrt{7} y_2^4 y $$\n",
    "\n",
    "$$ y_3^6 = \\frac{1}{6} \\sqrt{42} (y_2^4 z - y_2^0 x) $$"
   ]
  },
  {
   "cell_type": "code",
   "execution_count": 15,
   "id": "4715f559-3660-4718-9834-0f14010d65b4",
   "metadata": {},
   "outputs": [],
   "source": [
    "y2 = y**2.0\n",
    "x2z2 = x**2.0 + z**2.0\n",
    "\n",
    "y_3_0 = (1 / 6) * math.sqrt(42) * (y_2_0 * z + y_2_4 * x)\n",
    "y_3_1 = math.sqrt(7) * y_2_0 * y\n",
    "y_3_2 = (1 / 8) * math.sqrt(168) * (4.0 * y2 - x2z2) * x\n",
    "y_3_3 = (1 / 2) * math.sqrt(7) * y * (2.0 * y2 - 3.0 * x2z2)\n",
    "y_3_4 = (1 / 8) * math.sqrt(168) * z * (4.0 * y2 - x2z2)\n",
    "y_3_5 = math.sqrt(7) * y_2_4 * y\n",
    "y_3_6 = (1 / 6) * math.sqrt(42) * (y_2_4 * z - y_2_0 * x)"
   ]
  },
  {
   "cell_type": "code",
   "execution_count": 16,
   "id": "ab0b268c-6be1-4ee0-9be3-a31fcee50f8a",
   "metadata": {},
   "outputs": [],
   "source": [
    "third_order = {}\n",
    "for index, expr in enumerate([y_3_0, y_3_1, y_3_2, y_3_3, y_3_4, y_3_5, y_3_6]):\n",
    "    third_order[str(index)] = take_derivative(expr, [x, y, z])"
   ]
  },
  {
   "cell_type": "code",
   "execution_count": 17,
   "id": "8946edc6-b32f-4e02-8ff4-a5ba4beec44d",
   "metadata": {},
   "outputs": [],
   "source": [
    "third_order_cartesian = collect_derivatives(third_order, 3)"
   ]
  },
  {
   "cell_type": "code",
   "execution_count": 18,
   "id": "fb7dda98-ec95-49a5-bc43-a1436299fa8a",
   "metadata": {},
   "outputs": [
    {
     "name": "stdout",
     "output_type": "stream",
     "text": [
      "\\sqrt{15} \\nabla Y^{0}_{3} \\left(- 1.62018517460196 x^2 + 1.08012344973464 z^{2} + 0.540061724867322 z^2\\right) + 2.64575131106459 \\sqrt{15} \\nabla Y^{1}_{3} y z - \\nabla Y^{2}_{3} \\cdot \\left(4.8605555238059 x^2 - 6.48074069840786 y^2 + 1.62018517460197 z^2\\right) - 7.93725393319377 \\nabla Y^{3}_{3} x y - 3.24037034920393 \\nabla Y^{4}_{3} x z - 2.64575131106459 \\sqrt{15} \\nabla Y^{5}_{3} x y - \\sqrt{15} \\nabla Y^{6}_{3} z \\left(1.08012344973464 x + 2.16024689946929 x\\right)\n"
     ]
    }
   ],
   "source": [
    "export_to_latex(third_order_cartesian[\"x\"])"
   ]
  },
  {
   "cell_type": "code",
   "execution_count": 19,
   "id": "1876415f-8a2f-4643-965d-b3428bd3c3cd",
   "metadata": {},
   "outputs": [
    {
     "data": {
      "text/plain": [
       "'sqrt_15*g_3_0*(-1.62018517460196*sq_x + 1.08012344973464*sq_z + 0.540061724867322*sq_z) + 2.64575131106459*sqrt_15*g_3_1*y*z - g_3_2*(4.8605555238059*sq_x - 6.48074069840786*sq_y + 1.62018517460197*sq_z) - 7.93725393319377*g_3_3*x*y - 3.24037034920393*g_3_4*x*z - 2.64575131106459*sqrt_15*g_3_5*x*y - sqrt_15*g_3_6*z*(1.08012344973464*x + 2.16024689946929*x)'"
      ]
     },
     "execution_count": 19,
     "metadata": {},
     "output_type": "execute_result"
    }
   ],
   "source": [
    "replace_terms_for_implementation(str(third_order_cartesian[\"x\"]), mapping)"
   ]
  },
  {
   "cell_type": "code",
   "execution_count": 20,
   "id": "2c2f2bc9-70bf-4dc5-b564-0a8c74cb240d",
   "metadata": {},
   "outputs": [
    {
     "name": "stdout",
     "output_type": "stream",
     "text": [
      "2.64575131106459 \\sqrt{15} \\nabla Y^{1}_{3} x z + 12.9614813968157 \\nabla Y^{2}_{3} x y - \\nabla Y^{3}_{3} \\cdot \\left(3.96862696659689 x^2 - 7.93725393319377 y^2 + 3.96862696659689 z^2\\right) + 12.9614813968157 \\nabla Y^{4}_{3} y z - 1.3228756555323 \\sqrt{15} \\nabla Y^{5}_{3} \\left(x^2 - z^2\\right)\n"
     ]
    }
   ],
   "source": [
    "export_to_latex(third_order_cartesian[\"y\"])"
   ]
  },
  {
   "cell_type": "code",
   "execution_count": 21,
   "id": "e4764b7f-9a3b-4060-8035-4be6047bbf2e",
   "metadata": {},
   "outputs": [
    {
     "data": {
      "text/plain": [
       "'2.64575131106459*sqrt_15*g_3_1*x*z + 12.9614813968157*g_3_2*x*y - g_3_3*(3.96862696659689*sq_x - 7.93725393319377*sq_y + 3.96862696659689*sq_z) + 12.9614813968157*g_3_4*y*z - 1.3228756555323*sqrt_15*g_3_5*(sq_x - sq_z)'"
      ]
     },
     "execution_count": 21,
     "metadata": {},
     "output_type": "execute_result"
    }
   ],
   "source": [
    "replace_terms_for_implementation(str(third_order_cartesian[\"y\"]), mapping)"
   ]
  },
  {
   "cell_type": "code",
   "execution_count": 22,
   "id": "605858c9-55c9-419b-a099-0dc0a42f66a7",
   "metadata": {},
   "outputs": [
    {
     "name": "stdout",
     "output_type": "stream",
     "text": [
      "\\sqrt{15} \\nabla Y^{0}_{3} x \\left(1.08012344973464 z + 2.16024689946929 z\\right) + 2.64575131106459 \\sqrt{15} \\nabla Y^{1}_{3} x y - 3.24037034920393 \\nabla Y^{2}_{3} x z - 7.93725393319377 \\nabla Y^{3}_{3} y z - \\nabla Y^{4}_{3} \\cdot \\left(1.62018517460197 x^2 - 6.48074069840786 y^2 + 4.8605555238059 z^2\\right) + 2.64575131106459 \\sqrt{15} \\nabla Y^{5}_{3} y z - \\sqrt{15} \\nabla Y^{6}_{3} \\cdot \\left(1.08012344973464 x^{2} + 0.540061724867322 x^2 - 1.62018517460196 z^2\\right)\n"
     ]
    }
   ],
   "source": [
    "export_to_latex(third_order_cartesian[\"z\"])"
   ]
  },
  {
   "cell_type": "code",
   "execution_count": 23,
   "id": "269fbe07-0d33-4a0a-a629-df94d655e8b3",
   "metadata": {},
   "outputs": [
    {
     "data": {
      "text/plain": [
       "'sqrt_15*g_3_0*x*(1.08012344973464*z + 2.16024689946929*z) + 2.64575131106459*sqrt_15*g_3_1*x*y - 3.24037034920393*g_3_2*x*z - 7.93725393319377*g_3_3*y*z - g_3_4*(1.62018517460197*sq_x - 6.48074069840786*sq_y + 4.8605555238059*sq_z) + 2.64575131106459*sqrt_15*g_3_5*y*z - sqrt_15*g_3_6*(1.08012344973464*sq_x + 0.540061724867322*sq_x - 1.62018517460196*sq_z)'"
      ]
     },
     "execution_count": 23,
     "metadata": {},
     "output_type": "execute_result"
    }
   ],
   "source": [
    "replace_terms_for_implementation(str(third_order_cartesian[\"z\"]), mapping)"
   ]
  },
  {
   "cell_type": "markdown",
   "id": "499bb11f-f7bd-46d1-abb2-d099425f9cf1",
   "metadata": {},
   "source": [
    "## Fourth order spherical harmonics"
   ]
  },
  {
   "cell_type": "code",
   "execution_count": 24,
   "id": "43345b97-4533-47a5-a2cf-cece105c8df5",
   "metadata": {},
   "outputs": [],
   "source": [
    "y_4_0 = (3 / 4) * math.sqrt(2) * (y_3_0 * z + y_3_6 * x)\n",
    "y_4_1 = (\n",
    "    (3 / 4) * y_3_0 * y\n",
    "    + (3 / 8) * math.sqrt(6) * y_3_1 * z\n",
    "    + (3 / 8) * math.sqrt(6) * y_3_5 * x\n",
    ")\n",
    "y_4_2 = (\n",
    "    -3 / 56 * math.sqrt(14) * y_3_0 * z\n",
    "    + (3 / 14) * math.sqrt(21) * y_3_1 * y\n",
    "    + (3 / 56) * math.sqrt(210) * y_3_2 * z\n",
    "    + (3 / 56) * math.sqrt(210) * y_3_4 * x\n",
    "    + (3 / 56) * math.sqrt(14) * y_3_6 * x\n",
    ")\n",
    "y_4_3 = (\n",
    "    -3 / 56 * math.sqrt(42) * y_3_1 * z\n",
    "    + (3 / 28) * math.sqrt(105) * y_3_2 * y\n",
    "    + (3 / 28) * math.sqrt(70) * y_3_3 * x\n",
    "    + (3 / 56) * math.sqrt(42) * y_3_5 * x\n",
    ")\n",
    "y_4_4 = (\n",
    "    -3 / 28 * math.sqrt(42) * y_3_2 * x\n",
    "    + (3 / 7) * math.sqrt(7) * y_3_3 * y\n",
    "    - 3 / 28 * math.sqrt(42) * y_3_4 * z\n",
    ")\n",
    "y_4_5 = (\n",
    "    -3 / 56 * math.sqrt(42) * y_3_1 * x\n",
    "    + (3 / 28) * math.sqrt(70) * y_3_3 * z\n",
    "    + (3 / 28) * math.sqrt(105) * y_3_4 * y\n",
    "    - 3 / 56 * math.sqrt(42) * y_3_5 * z\n",
    ")\n",
    "y_4_6 = (\n",
    "    -3 / 56 * math.sqrt(14) * y_3_0 * x\n",
    "    - 3 / 56 * math.sqrt(210) * y_3_2 * x\n",
    "    + (3 / 56) * math.sqrt(210) * y_3_4 * z\n",
    "    + (3 / 14) * math.sqrt(21) * y_3_5 * y\n",
    "    - 3 / 56 * math.sqrt(14) * y_3_6 * z\n",
    ")\n",
    "y_4_7 = (\n",
    "    -3 / 8 * math.sqrt(6) * y_3_1 * x\n",
    "    + (3 / 8) * math.sqrt(6) * y_3_5 * z\n",
    "    + (3 / 4) * y_3_6 * y\n",
    ")\n",
    "y_4_8 = (3 / 4) * math.sqrt(2) * (-y_3_0 * x + y_3_6 * z)"
   ]
  },
  {
   "cell_type": "code",
   "execution_count": 25,
   "id": "f2304c2c-1416-475d-b4a6-105ebfaadd60",
   "metadata": {},
   "outputs": [],
   "source": [
    "fourth_order = {}\n",
    "for index, expr in enumerate(\n",
    "    [y_4_0, y_4_1, y_4_2, y_4_3, y_4_4, y_4_5, y_4_6, y_4_7, y_4_8]\n",
    "):\n",
    "    fourth_order[str(index)] = take_derivative(expr, [x, y, z])"
   ]
  },
  {
   "cell_type": "code",
   "execution_count": 26,
   "id": "baa112cb-04ca-40ac-b422-9ea72044c9bf",
   "metadata": {},
   "outputs": [],
   "source": [
    "fourth_order_cartesian = collect_derivatives(fourth_order, 4)"
   ]
  },
  {
   "cell_type": "code",
   "execution_count": 27,
   "id": "12b5a3b5-0388-4690-a4a8-8d0aa5235028",
   "metadata": {},
   "outputs": [
    {
     "data": {
      "text/plain": [
       "'-sqrt_15*g_4_0*(3.43693177121688*sq_x*z + 3.43693177121688*sq_x*z - 1.14564392373896*cu_z - 1.14564392373896*cu_z) + sqrt_15*g_4_1*y*(-4.8605555238059*sq_x + 3.24037034920393*sq_z + 1.62018517460197*sq_z) - g_4_2*(0.649519052838329*sqrt_15*sq_x*z - 2.77555756156289e-17*sqrt_15*sq_x*z + 7.54672942406179*sq_x*z - 2.59807621135332*sqrt_15*sq_y*z - 10.0623058987491*sq_y*z + 0.21650635094611*sqrt_15*cu_z + 2.51557647468726*cu_z) - g_4_3*y*(0.918558653543692*sqrt_15*sq_x + 16.0090306546024*sq_x - 9.48683298050514*sq_y + 0.918558653543692*sqrt_15*sq_z + 5.33634355153414*sq_z + 0.459279326771846*sqrt_15*(sq_x - sq_z)) + g_4_4*(-9.0*x*sq_y + 2.25*x*sq_z - 9.0*x*sq_y + 2.25*x*sq_z + 4.5*cu_x) - g_4_5*y*z*(-0.918558653543692*sqrt_15*x + 10.6726871030683*x + 1.83711730708738*sqrt_15*x) - g_4_6*(2.59807621135332*sqrt_15*x*sq_y - 0.21650635094611*sqrt_15*x*sq_z + 2.51557647468726*x*sq_z + 10.0623058987491*x*sq_y - 2.51557647468726*x*sq_z + 0.21650635094611*sqrt_15*x*sq_z - 5.03115294937453*cu_x - 0.433012701892219*sqrt_15*cu_x) - sqrt_15*g_4_7*y*z*(3.24037034920393*x + 6.48074069840786*x) - sqrt_15*g_4_8*(1.14564392373896*x*sq_z + 4.58257569495584*x*sq_z + 1.14564392373896*x*sq_z - 2.29128784747792*cu_x)'"
      ]
     },
     "execution_count": 27,
     "metadata": {},
     "output_type": "execute_result"
    }
   ],
   "source": [
    "replace_terms_for_implementation(str(fourth_order_cartesian[\"x\"]), mapping)"
   ]
  },
  {
   "cell_type": "code",
   "execution_count": 28,
   "id": "de352112-a997-4fd6-ad24-91c98ef0c2d6",
   "metadata": {},
   "outputs": [
    {
     "name": "stdout",
     "output_type": "stream",
     "text": [
      "- \\sqrt{15} \\nabla Y^{0}_{4} \\cdot \\left(3.43693177121688 x^{2} z + 3.43693177121688 x^2 z - 1.14564392373896 z^{3} - 1.14564392373896 z^3\\right) + \\sqrt{15} \\nabla Y^{1}_{4} y \\left(- 4.8605555238059 x^2 + 3.24037034920393 z^{2} + 1.62018517460197 z^2\\right) - \\nabla Y^{2}_{4} \\cdot \\left(0.649519052838329 \\sqrt{15} x^{2} z - 2.77555756156289 \\cdot 10^{-17} \\sqrt{15} x^2 z + 7.54672942406179 x^2 z - 2.59807621135332 \\sqrt{15} y^{2} z - 10.0623058987491 y^2 z + 0.21650635094611 \\sqrt{15} z^{3} + 2.51557647468726 z^3\\right) - \\nabla Y^{3}_{4} y \\left(0.918558653543692 \\sqrt{15} x^2 + 16.0090306546024 x^2 - 9.48683298050514 y^2 + 0.918558653543692 \\sqrt{15} z^{2} + 5.33634355153414 z^2 + 0.459279326771846 \\sqrt{15} \\left(x^2 - z^2\\right)\\right) + \\nabla Y^{4}_{4} \\left(- 9.0 x y^{2} + 2.25 x z^{2} - 9.0 x y^2 + 2.25 x z^2 + 4.5 x^3\\right) - \\nabla Y^{5}_{4} y z \\left(- 0.918558653543692 \\sqrt{15} x + 10.6726871030683 x + 1.83711730708738 \\sqrt{15} x\\right) - \\nabla Y^{6}_{4} \\cdot \\left(2.59807621135332 \\sqrt{15} x y^{2} - 0.21650635094611 \\sqrt{15} x z^{2} + 2.51557647468726 x z^{2} + 10.0623058987491 x y^2 - 2.51557647468726 x z^2 + 0.21650635094611 \\sqrt{15} x z^2 - 5.03115294937453 x^3 - 0.433012701892219 \\sqrt{15} x^3\\right) - \\sqrt{15} \\nabla Y^{7}_{4} y z \\left(3.24037034920393 x + 6.48074069840786 x\\right) - \\sqrt{15} \\nabla Y^{8}_{4} \\cdot \\left(1.14564392373896 x z^{2} + 4.58257569495584 x z^{2} + 1.14564392373896 x z^2 - 2.29128784747792 x^3\\right)\n"
     ]
    }
   ],
   "source": [
    "export_to_latex(fourth_order_cartesian[\"x\"])"
   ]
  },
  {
   "cell_type": "code",
   "execution_count": 29,
   "id": "64ec431e-712a-4c77-a4d6-987de5d9de47",
   "metadata": {},
   "outputs": [
    {
     "data": {
      "text/plain": [
       "'sqrt_15*g_4_1*x*(-1.62018517460197*sq_x + 3.24037034920393*sq_z + 1.62018517460197*sq_z) + g_4_2*x*z*(5.19615242270663*sqrt_15*y + 20.1246117974981*y) - g_4_3*x*(5.33634355153414*sq_x - 28.4604989415154*sq_y + 0.918558653543692*sqrt_15*sq_z + 5.33634355153414*sq_z + 0.459279326771846*sqrt_15*(sq_x - sq_z)) - g_4_4*(9.0*sq_x*y + 9.0*sq_x*y + 9.0*y*sq_z + 9.0*y*sq_z - 12.0*cu_y) - g_4_5*z*(0.918558653543692*sqrt_15*sq_x + 5.33634355153414*sq_x - 28.4604989415154*sq_y + 5.33634355153414*sq_z - 0.459279326771846*sqrt_15*(sq_x - sq_z)) - g_4_6*(10.0623058987491*sq_x*y - 10.0623058987491*y*sq_z + 2.59807621135332*sqrt_15*y*(sq_x - sq_z)) - sqrt_15*g_4_7*z*(3.24037034920393*sq_x + 1.62018517460197*sq_x - 1.62018517460197*sq_z)'"
      ]
     },
     "execution_count": 29,
     "metadata": {},
     "output_type": "execute_result"
    }
   ],
   "source": [
    "replace_terms_for_implementation(str(fourth_order_cartesian[\"y\"]), mapping)"
   ]
  },
  {
   "cell_type": "code",
   "execution_count": 30,
   "id": "766d8625-a5a5-4763-b3e9-7f4534f00a19",
   "metadata": {},
   "outputs": [
    {
     "name": "stdout",
     "output_type": "stream",
     "text": [
      "\\sqrt{15} \\nabla Y^{1}_{4} x \\left(- 1.62018517460197 x^2 + 3.24037034920393 z^{2} + 1.62018517460197 z^2\\right) + \\nabla Y^{2}_{4} x z \\left(5.19615242270663 \\sqrt{15} y + 20.1246117974981 y\\right) - \\nabla Y^{3}_{4} x \\left(5.33634355153414 x^2 - 28.4604989415154 y^2 + 0.918558653543692 \\sqrt{15} z^{2} + 5.33634355153414 z^2 + 0.459279326771846 \\sqrt{15} \\left(x^2 - z^2\\right)\\right) - \\nabla Y^{4}_{4} \\cdot \\left(9.0 x^{2} y + 9.0 x^2 y + 9.0 y z^{2} + 9.0 y z^2 - 12.0 y^3\\right) - \\nabla Y^{5}_{4} z \\left(0.918558653543692 \\sqrt{15} x^{2} + 5.33634355153414 x^2 - 28.4604989415154 y^2 + 5.33634355153414 z^2 - 0.459279326771846 \\sqrt{15} \\left(x^2 - z^2\\right)\\right) - \\nabla Y^{6}_{4} \\cdot \\left(10.0623058987491 x^{2} y - 10.0623058987491 y z^{2} + 2.59807621135332 \\sqrt{15} y \\left(x^2 - z^2\\right)\\right) - \\sqrt{15} \\nabla Y^{7}_{4} z \\left(3.24037034920393 x^{2} + 1.62018517460197 x^2 - 1.62018517460197 z^2\\right)\n"
     ]
    }
   ],
   "source": [
    "export_to_latex(fourth_order_cartesian[\"y\"])"
   ]
  },
  {
   "cell_type": "code",
   "execution_count": 31,
   "id": "08441fb6-d16d-456c-887a-c8a9a1566cbb",
   "metadata": {},
   "outputs": [
    {
     "data": {
      "text/plain": [
       "'-sqrt_15*g_4_0*(1.14564392373896*cu_x - 3.43693177121688*x*sq_z - 3.43693177121688*x*sq_z + 1.14564392373896*cu_x) + sqrt_15*g_4_1*x*y*(3.24037034920393*z + 6.48074069840786*z) - g_4_2*(0.21650635094611*sqrt_15*cu_x - 2.59807621135332*sqrt_15*x*sq_y - 10.0623058987491*x*sq_y + 0.649519052838329*sqrt_15*x*sq_z - 2.77555756156289e-17*sqrt_15*x*sq_z + 7.54672942406179*x*sq_z + 2.51557647468726*cu_x) - g_4_3*x*y*(-0.918558653543692*sqrt_15*z + 10.6726871030683*z + 1.83711730708738*sqrt_15*z) + g_4_4*(2.25*sq_x*z + 2.25*sq_x*z - 9.0*sq_y*z - 9.0*sq_y*z + 4.5*cu_z) - g_4_5*y*(0.918558653543692*sqrt_15*sq_x + 5.33634355153414*sq_x - 9.48683298050514*sq_y + 0.918558653543692*sqrt_15*sq_z + 16.0090306546024*sq_z - 0.459279326771846*sqrt_15*(sq_x - sq_z)) + g_4_6*(-0.21650635094611*sqrt_15*sq_x*z + 2.51557647468726*sq_x*z - 2.51557647468726*sq_x*z + 0.21650635094611*sqrt_15*sq_x*z + 2.59807621135332*sqrt_15*sq_y*z + 10.0623058987491*sq_y*z - 5.03115294937453*cu_z - 0.433012701892219*sqrt_15*cu_z) - sqrt_15*g_4_7*y*(3.24037034920393*sq_x + 1.62018517460197*sq_x - 4.8605555238059*sq_z) - sqrt_15*g_4_8*(1.14564392373896*sq_x*z + 4.58257569495584*sq_x*z + 1.14564392373896*sq_x*z - 2.29128784747792*cu_z)'"
      ]
     },
     "execution_count": 31,
     "metadata": {},
     "output_type": "execute_result"
    }
   ],
   "source": [
    "replace_terms_for_implementation(str(fourth_order_cartesian[\"z\"]), mapping)"
   ]
  },
  {
   "cell_type": "code",
   "execution_count": 32,
   "id": "09594841-4dd0-4f32-92cc-2234c5fdc0f9",
   "metadata": {},
   "outputs": [
    {
     "name": "stdout",
     "output_type": "stream",
     "text": [
      "- \\sqrt{15} \\nabla Y^{0}_{4} \\cdot \\left(1.14564392373896 x^{3} - 3.43693177121688 x z^{2} - 3.43693177121688 x z^2 + 1.14564392373896 x^3\\right) + \\sqrt{15} \\nabla Y^{1}_{4} x y \\left(3.24037034920393 z + 6.48074069840786 z\\right) - \\nabla Y^{2}_{4} \\cdot \\left(0.21650635094611 \\sqrt{15} x^{3} - 2.59807621135332 \\sqrt{15} x y^{2} - 10.0623058987491 x y^2 + 0.649519052838329 \\sqrt{15} x z^{2} - 2.77555756156289 \\cdot 10^{-17} \\sqrt{15} x z^2 + 7.54672942406179 x z^2 + 2.51557647468726 x^3\\right) - \\nabla Y^{3}_{4} x y \\left(- 0.918558653543692 \\sqrt{15} z + 10.6726871030683 z + 1.83711730708738 \\sqrt{15} z\\right) + \\nabla Y^{4}_{4} \\cdot \\left(2.25 x^{2} z + 2.25 x^2 z - 9.0 y^{2} z - 9.0 y^2 z + 4.5 z^3\\right) - \\nabla Y^{5}_{4} y \\left(0.918558653543692 \\sqrt{15} x^{2} + 5.33634355153414 x^2 - 9.48683298050514 y^2 + 0.918558653543692 \\sqrt{15} z^2 + 16.0090306546024 z^2 - 0.459279326771846 \\sqrt{15} \\left(x^2 - z^2\\right)\\right) + \\nabla Y^{6}_{4} \\left(- 0.21650635094611 \\sqrt{15} x^{2} z + 2.51557647468726 x^{2} z - 2.51557647468726 x^2 z + 0.21650635094611 \\sqrt{15} x^2 z + 2.59807621135332 \\sqrt{15} y^{2} z + 10.0623058987491 y^2 z - 5.03115294937453 z^3 - 0.433012701892219 \\sqrt{15} z^3\\right) - \\sqrt{15} \\nabla Y^{7}_{4} y \\left(3.24037034920393 x^{2} + 1.62018517460197 x^2 - 4.8605555238059 z^2\\right) - \\sqrt{15} \\nabla Y^{8}_{4} \\cdot \\left(1.14564392373896 x^{2} z + 4.58257569495584 x^{2} z + 1.14564392373896 x^2 z - 2.29128784747792 z^3\\right)\n"
     ]
    }
   ],
   "source": [
    "export_to_latex(fourth_order_cartesian[\"z\"])"
   ]
  },
  {
   "cell_type": "markdown",
   "id": "757b0874-b3ae-4c3c-b3e9-aa5bb9a5277f",
   "metadata": {},
   "source": [
    "## Fifth order spherical harmonics\n",
    "\n",
    "These have yet to be implemented in EquiTriton, but goes to show that higher order derivatives can be easily obtained."
   ]
  },
  {
   "cell_type": "code",
   "execution_count": 33,
   "id": "20d7bfb9-1613-4014-9cec-e6ca24d6be3a",
   "metadata": {},
   "outputs": [],
   "source": [
    "y_5_0 = (1 / 10) * math.sqrt(110) * (y_4_0 * z + y_4_8 * x)\n",
    "y_5_1 = (\n",
    "    (1 / 5) * math.sqrt(11) * y_4_0 * y\n",
    "    + (1 / 5) * math.sqrt(22) * y_4_1 * z\n",
    "    + (1 / 5) * math.sqrt(22) * y_4_7 * x\n",
    ")\n",
    "y_5_2 = (\n",
    "    -1 / 30 * math.sqrt(22) * y_4_0 * z\n",
    "    + (4 / 15) * math.sqrt(11) * y_4_1 * y\n",
    "    + (1 / 15) * math.sqrt(154) * y_4_2 * z\n",
    "    + (1 / 15) * math.sqrt(154) * y_4_6 * x\n",
    "    + (1 / 30) * math.sqrt(22) * y_4_8 * x\n",
    ")\n",
    "y_5_3 = (\n",
    "    -1 / 30 * math.sqrt(66) * y_4_1 * z\n",
    "    + (1 / 15) * math.sqrt(231) * y_4_2 * y\n",
    "    + (1 / 30) * math.sqrt(462) * y_4_3 * z\n",
    "    + (1 / 30) * math.sqrt(462) * y_4_5 * x\n",
    "    + (1 / 30) * math.sqrt(66) * y_4_7 * x\n",
    ")\n",
    "y_5_4 = (\n",
    "    -1 / 15 * math.sqrt(33) * y_4_2 * z\n",
    "    + (2 / 15) * math.sqrt(66) * y_4_3 * y\n",
    "    + (1 / 15) * math.sqrt(165) * y_4_4 * x\n",
    "    + (1 / 15) * math.sqrt(33) * y_4_6 * x\n",
    ")\n",
    "y_5_5 = (\n",
    "    -1 / 15 * math.sqrt(110) * y_4_3 * x\n",
    "    + (1 / 3) * math.sqrt(11) * y_4_4 * y\n",
    "    - 1 / 15 * math.sqrt(110) * y_4_5 * z\n",
    ")\n",
    "y_5_6 = (\n",
    "    -1 / 15 * math.sqrt(33) * y_4_2 * x\n",
    "    + (1 / 15) * math.sqrt(165) * y_4_4 * z\n",
    "    + (2 / 15) * math.sqrt(66) * y_4_5 * y\n",
    "    - 1 / 15 * math.sqrt(33) * y_4_6 * z\n",
    ")\n",
    "y_5_7 = (\n",
    "    -1 / 30 * math.sqrt(66) * y_4_1 * x\n",
    "    - 1 / 30 * math.sqrt(462) * y_4_3 * x\n",
    "    + (1 / 30) * math.sqrt(462) * y_4_5 * z\n",
    "    + (1 / 15) * math.sqrt(231) * y_4_6 * y\n",
    "    - 1 / 30 * math.sqrt(66) * y_4_7 * z\n",
    ")\n",
    "y_5_8 = (\n",
    "    -1 / 30 * math.sqrt(22) * y_4_0 * x\n",
    "    - 1 / 15 * math.sqrt(154) * y_4_2 * x\n",
    "    + (1 / 15) * math.sqrt(154) * y_4_6 * z\n",
    "    + (4 / 15) * math.sqrt(11) * y_4_7 * y\n",
    "    - 1 / 30 * math.sqrt(22) * y_4_8 * z\n",
    ")\n",
    "y_5_9 = (\n",
    "    -1 / 5 * math.sqrt(22) * y_4_1 * x\n",
    "    + (1 / 5) * math.sqrt(22) * y_4_7 * z\n",
    "    + (1 / 5) * math.sqrt(11) * y_4_8 * y\n",
    ")\n",
    "y_5_10 = (1 / 10) * math.sqrt(110) * (-y_4_0 * x + y_4_8 * z)"
   ]
  },
  {
   "cell_type": "code",
   "execution_count": 34,
   "id": "02741bb4-80c6-425d-8396-09025b5ded62",
   "metadata": {},
   "outputs": [],
   "source": [
    "fifth_order = {}\n",
    "for index, expr in enumerate(\n",
    "    [y_5_0, y_5_1, y_5_2, y_5_3, y_5_4, y_5_5, y_5_6, y_5_7, y_5_8, y_5_9, y_5_10]\n",
    "):\n",
    "    fifth_order[str(index)] = take_derivative(expr, [x, y, z])"
   ]
  },
  {
   "cell_type": "code",
   "execution_count": 35,
   "id": "4da426fe-816f-4594-80f4-44ef06d3347f",
   "metadata": {},
   "outputs": [],
   "source": [
    "fifth_order_cartesian = collect_derivatives(fifth_order, 5)"
   ]
  },
  {
   "cell_type": "code",
   "execution_count": 36,
   "id": "ac8ebc65-1000-443b-a543-b7d7690f4fa4",
   "metadata": {},
   "outputs": [
    {
     "data": {
      "text/plain": [
       "'-sqrt_15*dY5^0*(10.8140533566281*sq_x*sq_z + 1.80234222610469*sq_x*sq_z + 5.40702667831406*sq_x*sq_z - 3.00390371017448*sq_x * sq_x - 1.20156148406979*sq_z * sq_z - 1.80234222610469*sq_z * sq_z) - sqrt_15*dY5^1*y*(11.399013115178*sq_x*z + 11.399013115178*sq_x*z - 3.79967103839267*cu_z - 3.79967103839267*cu_z) - sqrt_15*dY5^10*(1.20156148406979*x*cu_z - 4.80624593627917*cu_x*z + 7.20936890441875*x*cu_z + 3.60468445220938*x*cu_z - 7.20936890441875*cu_x*z) - dY5^2*(12.4869932329604*sq_x*sq_y + 1.07470926301023*sqrt_15*sq_x*sq_z - 3.12174830824011*sq_x*sq_z + 0.537354631505117*sqrt_15*sq_x*sq_z + 7.52296484107164*sqrt_15*sq_x*sq_y - 0.537354631505117*sqrt_15*sq_x*sq_z + 9.36524492472033*sq_x*sq_z - 5.20291384706685*sq_x * sq_x - 0.895591052508528*sqrt_15*sq_x * sq_x - 5.01530989404776*sqrt_15*sq_y*sq_z - 2.50765494702388*sqrt_15*sq_y*sq_z - 12.4869932329604*sq_y*sq_z + 0.358236421003411*sqrt_15*sq_z * sq_z + 0.179118210501706*sqrt_15*sq_z * sq_z + 3.12174830824011*sq_z * sq_z) - dY5^3*(5.26497863243527*sqrt_15*sq_x*y*z + 2.77555756156289e-17*sqrt_15*sq_x*y*z + 30.5867618423396*sq_x*y*z - 2.63248931621764*sqrt_15*cu_y*z + 1.75499287747842*sqrt_15*y*cu_z + 5.55111512312578e-17*sqrt_15*y*cu_z + 10.1955872807799*y*cu_z - 23.789703655153*cu_y*z) + dY5^4*(-17.3410639811979*sq_x*sq_y + 0.248746859276655*sqrt_15*sq_x*sq_z - 0.124373429638327*sqrt_15*sq_x*sq_z + 4.33526599529948*sq_x*sq_z - 28.9017733019965*sq_x*sq_y - 2.98496231131986*sqrt_15*sq_x*sq_y + 0.124373429638327*sqrt_15*sq_x*sq_z + 4.33526599529948*sq_x*sq_z + 0.207289049397212*sqrt_15*sq_x * sq_x + 7.22544332549914*sq_x * sq_x - 1.98997487421324*sqrt_15*sq_y*sq_z - 9.63392443399885*sq_y*sq_z + 0.99498743710662*sqrt_15*sq_y*sq_z - 5.78035466039931*sq_y*sq_z + 12.8452325786651*y**4.0 + 0.082915619758885*sqrt_15*sq_z * sq_z - 0.0414578098794425*sqrt_15*sq_z * sq_z + 1.44508866509983*sq_z * sq_z) + dY5^5*(-9.9498743710662*x*cu_y - 0.642261628933256*sqrt_15*x*y*sq_z + 9.9498743710662*x*y*sq_z + 2.56904651573303*sqrt_15*x*y*sq_z - 0.642261628933256*sqrt_15*x*y*sq_z + 9.9498743710662*x*y*sq_z - 23.2163735324878*x*cu_y + 1.28452325786651*sqrt_15*cu_x*y + 19.8997487421324*cu_x*y) + dY5^6*(-19.2678488679977*x*sq_y*z + 1.98997487421324*sqrt_15*x*sq_y*z - 0.082915619758885*sqrt_15*x*cu_z + 2.89017733019965*x*cu_z + 0.33166247903554*sqrt_15*cu_x*z - 3.97994974842648*sqrt_15*x*sq_y*z - 11.5607093207986*x*sq_y*z + 0.16583123951777*sqrt_15*x*cu_z + 0.082915619758885*sqrt_15*x*cu_z + 2.89017733019965*x*cu_z - 0.16583123951777*sqrt_15*cu_x*z + 5.78035466039931*cu_x*z) - dY5^7*(2.63248931621764*sqrt_15*x*cu_y - 1.75499287747842*sqrt_15*x*y*sq_z + 10.1955872807799*x*y*sq_z + 2.77555756156289e-17*sqrt_15*x*y*sq_z - 10.1955872807799*x*y*sq_z + 1.75499287747842*sqrt_15*x*y*sq_z + 23.789703655153*x*cu_y - 20.3911745615597*cu_x*y - 3.50998575495685*sqrt_15*cu_x*y) + dY5^8*(-5.01530989404776*sqrt_15*x*sq_y*z - 2.08116553882674*x*cu_z + 0.358236421003411*sqrt_15*x*cu_z + 1.43294568401365*sqrt_15*cu_x*z - 10.0306197880955*sqrt_15*x*sq_y*z - 24.9739864659209*x*sq_y*z + 0.716472842006823*sqrt_15*x*cu_z - 0.358236421003411*sqrt_15*x*cu_z + 6.24349661648022*x*cu_z + 0.716472842006822*sqrt_15*cu_x*z + 12.4869932329604*cu_x*z) - sqrt_15*dY5^9*y*(3.79967103839267*x*sq_z + 15.1986841535707*x*sq_z + 3.79967103839267*x*sq_z - 7.59934207678533*cu_x)'"
      ]
     },
     "execution_count": 36,
     "metadata": {},
     "output_type": "execute_result"
    }
   ],
   "source": [
    "replace_terms_for_implementation(str(fifth_order_cartesian[\"x\"]), mapping)"
   ]
  },
  {
   "cell_type": "code",
   "execution_count": 37,
   "id": "d1eddfd6-2632-473c-98f1-144cbb8bbc45",
   "metadata": {},
   "outputs": [
    {
     "data": {
      "text/plain": [
       "'-3.79967103839267*sqrt_15*dY5^1*(cu_x*z - x*cu_z - x*cu_z + cu_x*z) + dY5^2*(-8.32466215530697*cu_x*y + 24.9739864659209*x*y*sq_z + 10.0306197880955*sqrt_15*x*y*sq_z + 5.01530989404776*sqrt_15*x*y*sq_z - 5.01530989404776*sqrt_15*cu_x*y) - dY5^3*(1.75499287747842*sqrt_15*cu_x*z - 7.89746794865291*sqrt_15*x*sq_y*z - 71.369110965459*x*sq_y*z + 1.75499287747842*sqrt_15*x*cu_z + 10.1955872807799*x*cu_z + 10.1955872807799*cu_x*z) - dY5^4*(11.5607093207986*cu_x*y + 11.5607093207986*x*y*sq_z + 3.97994974842648*sqrt_15*x*y*sq_z - 1.98997487421324*sqrt_15*x*y*sq_z + 19.2678488679977*x*y*sq_z - 51.3809303146605*x*cu_y + 1.98997487421324*sqrt_15*cu_x*y + 19.2678488679977*cu_x*y) + dY5^5*(-34.8245602987317*sq_x*sq_y + 1.28452325786651*sqrt_15*sq_x*sq_z - 0.321130814466628*sqrt_15*sq_x*sq_z + 4.9749371855331*sq_x*sq_z - 14.9248115565993*sq_x*sq_y - 0.321130814466628*sqrt_15*sq_x*sq_z + 4.9749371855331*sq_x*sq_z + 0.321130814466628*sqrt_15*sq_x * sq_x + 4.9749371855331*sq_x * sq_x - 14.9248115565993*sq_y*sq_z - 34.8245602987317*sq_y*sq_z + 16.583123951777*y**4.0 + 0.321130814466628*sqrt_15*sq_z * sq_z + 4.9749371855331*sq_z * sq_z) - dY5^6*(11.5607093207986*sq_x*y*z + 3.97994974842648*sqrt_15*sq_x*y*z - 1.98997487421324*sqrt_15*sq_x*y*z + 19.2678488679977*sq_x*y*z + 11.5607093207986*y*cu_z + 1.98997487421324*sqrt_15*y*cu_z + 19.2678488679977*y*cu_z - 51.3809303146605*cu_y*z) - dY5^7*(35.6845554827295*sq_x*sq_y - 5.09779364038993*sq_x*sq_z + 0.877496438739212*sqrt_15*sq_x*sq_z + 3.94873397432645*sqrt_15*sq_x*sq_y - 0.877496438739212*sqrt_15*sq_x*sq_z + 5.09779364038993*sq_x*sq_z - 5.09779364038993*sq_x * sq_x - 0.877496438739212*sqrt_15*sq_x * sq_x - 3.94873397432645*sqrt_15*sq_y*sq_z - 35.6845554827295*sq_y*sq_z + 0.877496438739212*sqrt_15*sq_z * sq_z + 5.09779364038993*sq_z * sq_z) - dY5^8*(24.9739864659209*sq_x*y*z + 10.0306197880955*sqrt_15*sq_x*y*z + 5.01530989404776*sqrt_15*sq_x*y*z - 8.32466215530696*y*cu_z - 5.01530989404776*sqrt_15*y*cu_z) - sqrt_15*dY5^9*(7.59934207678533*sq_x*sq_z + 1.89983551919633*sq_x*sq_z + 1.89983551919633*sq_x*sq_z - 1.89983551919633*sq_x * sq_x - 1.89983551919633*sq_z * sq_z)'"
      ]
     },
     "execution_count": 37,
     "metadata": {},
     "output_type": "execute_result"
    }
   ],
   "source": [
    "replace_terms_for_implementation(str(fifth_order_cartesian[\"y\"]), mapping)"
   ]
  },
  {
   "cell_type": "code",
   "execution_count": 38,
   "id": "088e5fce-408d-4b93-a566-c7421ad7966e",
   "metadata": {},
   "outputs": [
    {
     "data": {
      "text/plain": [
       "'-sqrt_15*dY5^0*(1.20156148406979*cu_x*z + 7.20936890441875*cu_x*z - 4.80624593627917*x*cu_z - 7.20936890441875*x*cu_z + 3.60468445220938*cu_x*z) - sqrt_15*dY5^1*y*(3.79967103839267*cu_x - 11.399013115178*x*sq_z - 11.399013115178*x*sq_z + 3.79967103839267*cu_x) + sqrt_15*dY5^10*(1.20156148406979*sq_x * sq_x - 10.8140533566281*sq_x*sq_z - 5.40702667831406*sq_x*sq_z - 1.80234222610469*sq_x*sq_z + 1.80234222610469*sq_x * sq_x + 3.00390371017448*sq_z * sq_z) - dY5^2*(-2.08116553882674*cu_x*z + 0.358236421003411*sqrt_15*cu_x*z + 0.716472842006822*sqrt_15*cu_x*z - 5.01530989404776*sqrt_15*x*sq_y*z - 10.0306197880955*sqrt_15*x*sq_y*z - 24.9739864659209*x*sq_y*z + 1.43294568401365*sqrt_15*x*cu_z + 0.716472842006823*sqrt_15*x*cu_z + 12.4869932329604*x*cu_z - 0.358236421003411*sqrt_15*cu_x*z + 6.24349661648022*cu_x*z) - dY5^3*(1.75499287747842*sqrt_15*cu_x*y - 2.63248931621764*sqrt_15*x*cu_y + 5.26497863243527*sqrt_15*x*y*sq_z + 2.77555756156289e-17*sqrt_15*x*y*sq_z + 30.5867618423396*x*y*sq_z - 23.789703655153*x*cu_y + 4.16333634234434e-17*sqrt_15*cu_x*y + 10.1955872807799*cu_x*y) + dY5^4*(-0.082915619758885*sqrt_15*cu_x*z + 2.89017733019965*cu_x*z + 0.16583123951777*sqrt_15*cu_x*z - 19.2678488679977*x*sq_y*z + 1.98997487421324*sqrt_15*x*sq_y*z - 3.97994974842648*sqrt_15*x*sq_y*z - 11.5607093207986*x*sq_y*z + 0.33166247903554*sqrt_15*x*cu_z - 0.16583123951777*sqrt_15*x*cu_z + 5.78035466039931*x*cu_z + 0.082915619758885*sqrt_15*cu_x*z + 2.89017733019965*cu_x*z) + dY5^5*(-0.642261628933256*sqrt_15*sq_x*y*z + 9.9498743710662*sq_x*y*z + 2.56904651573303*sqrt_15*sq_x*y*z - 0.642261628933256*sqrt_15*sq_x*y*z + 9.9498743710662*sq_x*y*z - 9.9498743710662*cu_y*z + 1.28452325786651*sqrt_15*y*cu_z + 19.8997487421324*y*cu_z - 23.2163735324878*cu_y*z) + dY5^6*(0.082915619758885*sqrt_15*sq_x * sq_x - 1.98997487421324*sqrt_15*sq_x*sq_y - 5.78035466039931*sq_x*sq_y + 0.248746859276655*sqrt_15*sq_x*sq_z + 0.124373429638327*sqrt_15*sq_x*sq_z + 4.33526599529948*sq_x*sq_z - 9.63392443399885*sq_x*sq_y + 0.99498743710662*sqrt_15*sq_x*sq_y - 0.124373429638327*sqrt_15*sq_x*sq_z + 4.33526599529948*sq_x*sq_z - 0.0414578098794425*sqrt_15*sq_x * sq_x + 1.44508866509983*sq_x * sq_x - 28.9017733019965*sq_y*sq_z - 2.98496231131986*sqrt_15*sq_y*sq_z - 17.3410639811979*sq_y*sq_z + 12.8452325786651*y**4.0 + 0.207289049397212*sqrt_15*sq_z * sq_z + 7.22544332549914*sq_z * sq_z) + dY5^7*(-1.75499287747842*sqrt_15*sq_x*y*z + 10.1955872807799*sq_x*y*z + 5.55111512312578e-17*sqrt_15*sq_x*y*z - 10.1955872807799*sq_x*y*z + 1.75499287747842*sqrt_15*sq_x*y*z + 2.63248931621764*sqrt_15*cu_y*z - 20.3911745615597*y*cu_z - 3.50998575495685*sqrt_15*y*cu_z + 23.789703655153*cu_y*z) + dY5^8*(0.358236421003411*sqrt_15*sq_x * sq_x - 5.01530989404776*sqrt_15*sq_x*sq_y - 12.4869932329604*sq_x*sq_y + 1.07470926301023*sqrt_15*sq_x*sq_z - 0.537354631505117*sqrt_15*sq_x*sq_z + 9.36524492472034*sq_x*sq_z - 2.50765494702388*sqrt_15*sq_x*sq_y - 3.12174830824011*sq_x*sq_z + 0.537354631505117*sqrt_15*sq_x*sq_z + 0.179118210501706*sqrt_15*sq_x * sq_x + 3.12174830824011*sq_x * sq_x + 7.52296484107164*sqrt_15*sq_y*sq_z + 12.4869932329604*sq_y*sq_z - 5.20291384706685*sq_z * sq_z - 0.895591052508528*sqrt_15*sq_z * sq_z) - sqrt_15*dY5^9*y*(3.79967103839267*sq_x*z + 15.1986841535707*sq_x*z + 3.79967103839267*sq_x*z - 7.59934207678533*cu_z)'"
      ]
     },
     "execution_count": 38,
     "metadata": {},
     "output_type": "execute_result"
    }
   ],
   "source": [
    "replace_terms_for_implementation(str(fifth_order_cartesian[\"z\"]), mapping)"
   ]
  },
  {
   "cell_type": "code",
   "execution_count": null,
   "id": "c9177cd1-675a-4845-b0f7-266f37d9ec06",
   "metadata": {},
   "outputs": [],
   "source": []
  }
 ],
 "metadata": {
  "kernelspec": {
   "display_name": "Python 3 (ipykernel)",
   "language": "python",
   "name": "python3"
  },
  "language_info": {
   "codemirror_mode": {
    "name": "ipython",
    "version": 3
   },
   "file_extension": ".py",
   "mimetype": "text/x-python",
   "name": "python",
   "nbconvert_exporter": "python",
   "pygments_lexer": "ipython3",
   "version": "3.11.9"
  }
 },
 "nbformat": 4,
 "nbformat_minor": 5
}
